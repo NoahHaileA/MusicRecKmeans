{
 "cells": [
  {
   "cell_type": "code",
   "execution_count": null,
   "id": "5653157d",
   "metadata": {},
   "outputs": [],
   "source": [
    "import pandas as pd\n",
    "from sklearn.preprocessing import StandardScaler\n",
    "from sklearn.cluster import KMeans\n",
    "\n",
    "\n",
    "data = pd.read_excel('C:\\\\Users\\\\17635\\\\Downloads\\\\Music Dataset.xlsx')\n",
    "data.columns = data.columns.str.lower()\n",
    "\n",
    "# Selecting numerical features for clustering\n",
    "features = ['popularity', 'duration', 'danceability', 'energy', 'loudness', \n",
    "            'speechiness', 'acousticness', 'instrumentalness', 'liveness', \n",
    "            'valence', 'tempo']\n",
    "\n",
    "# Standardize the features\n",
    "scaler = StandardScaler()\n",
    "scaled_data = scaler.fit_transform(data[features])\n",
    "\n",
    "# K-means clustering\n",
    "num_clusters = 10  \n",
    "kmeans = KMeans(n_clusters=num_clusters, random_state=42)\n",
    "data['cluster'] = kmeans.fit_predict(scaled_data)\n",
    "\n",
    "# recommends songs from the same cluster\n",
    "def recommend_songs(song_index, n_recommendations=5):\n",
    "    song_cluster = data.iloc[song_index]['cluster']\n",
    "    cluster_songs = data[data['cluster'] == song_cluster]\n",
    "    \n",
    "    song_to_include = data.iloc[song_index]\n",
    "    # Remove the song at song_index from the cluster list (to prevent duplicate)\n",
    "    cluster_songs = cluster_songs[cluster_songs.index != song_index]\n",
    "    \n",
    "    # Sort by popularity for better recommendations \n",
    "    recommended_songs = cluster_songs.sort_values(by='popularity', ascending=False).head(n_recommendations)\n",
    "    \n",
    "    return recommended_songs[['track', 'artist1', 'album']]\n",
    "\n",
    "# Example \n",
    "recommended_songs = recommend_songs(4)\n",
    "print(recommended_songs)"
   ]
  },
  {
   "cell_type": "code",
   "execution_count": null,
   "id": "7819a327",
   "metadata": {},
   "outputs": [],
   "source": [
    "print(data.columns)"
   ]
  },
  {
   "cell_type": "code",
   "execution_count": null,
   "id": "a0e23435",
   "metadata": {},
   "outputs": [],
   "source": []
  }
 ],
 "metadata": {
  "kernelspec": {
   "display_name": "Python 3 (ipykernel)",
   "language": "python",
   "name": "python3"
  },
  "language_info": {
   "codemirror_mode": {
    "name": "ipython",
    "version": 3
   },
   "file_extension": ".py",
   "mimetype": "text/x-python",
   "name": "python",
   "nbconvert_exporter": "python",
   "pygments_lexer": "ipython3",
   "version": "3.9.13"
  }
 },
 "nbformat": 4,
 "nbformat_minor": 5
}
